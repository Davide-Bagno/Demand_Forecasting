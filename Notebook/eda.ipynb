{
 "cells": [
  {
   "cell_type": "code",
   "execution_count": null,
   "metadata": {},
   "outputs": [
    {
     "name": "stdout",
     "output_type": "stream",
     "text": [
      "Requirement already satisfied: pandas==2.2.3 in c:\\users\\david\\anaconda3\\envs\\demand_forecasting\\lib\\site-packages (from -r ../requirements.txt (line 1)) (2.2.3)\n",
      "Requirement already satisfied: xlrd in c:\\users\\david\\anaconda3\\envs\\demand_forecasting\\lib\\site-packages (from -r ../requirements.txt (line 2)) (2.0.1)\n",
      "Collecting statsmodels (from -r ../requirements.txt (line 3))\n",
      "  Downloading statsmodels-0.14.4-cp313-cp313-win_amd64.whl.metadata (9.5 kB)\n",
      "Requirement already satisfied: numpy>=1.26.0 in c:\\users\\david\\anaconda3\\envs\\demand_forecasting\\lib\\site-packages (from pandas==2.2.3->-r ../requirements.txt (line 1)) (2.2.1)\n",
      "Requirement already satisfied: python-dateutil>=2.8.2 in c:\\users\\david\\anaconda3\\envs\\demand_forecasting\\lib\\site-packages (from pandas==2.2.3->-r ../requirements.txt (line 1)) (2.9.0.post0)\n",
      "Requirement already satisfied: pytz>=2020.1 in c:\\users\\david\\anaconda3\\envs\\demand_forecasting\\lib\\site-packages (from pandas==2.2.3->-r ../requirements.txt (line 1)) (2024.2)\n",
      "Requirement already satisfied: tzdata>=2022.7 in c:\\users\\david\\anaconda3\\envs\\demand_forecasting\\lib\\site-packages (from pandas==2.2.3->-r ../requirements.txt (line 1)) (2024.2)\n",
      "Collecting scipy!=1.9.2,>=1.8 (from statsmodels->-r ../requirements.txt (line 3))\n",
      "  Downloading scipy-1.14.1-cp313-cp313-win_amd64.whl.metadata (60 kB)\n",
      "Collecting patsy>=0.5.6 (from statsmodels->-r ../requirements.txt (line 3))\n",
      "  Using cached patsy-1.0.1-py2.py3-none-any.whl.metadata (3.3 kB)\n",
      "Requirement already satisfied: packaging>=21.3 in c:\\users\\david\\anaconda3\\envs\\demand_forecasting\\lib\\site-packages (from statsmodels->-r ../requirements.txt (line 3)) (24.2)\n",
      "Requirement already satisfied: six>=1.5 in c:\\users\\david\\anaconda3\\envs\\demand_forecasting\\lib\\site-packages (from python-dateutil>=2.8.2->pandas==2.2.3->-r ../requirements.txt (line 1)) (1.17.0)\n",
      "Downloading statsmodels-0.14.4-cp313-cp313-win_amd64.whl (9.8 MB)\n",
      "   ---------------------------------------- 0.0/9.8 MB ? eta -:--:--\n",
      "   -- ------------------------------------- 0.5/9.8 MB 3.2 MB/s eta 0:00:03\n",
      "   ----- ---------------------------------- 1.3/9.8 MB 3.3 MB/s eta 0:00:03\n",
      "   -------- ------------------------------- 2.1/9.8 MB 3.3 MB/s eta 0:00:03\n",
      "   ---------- ----------------------------- 2.6/9.8 MB 3.3 MB/s eta 0:00:03\n",
      "   ------------- -------------------------- 3.4/9.8 MB 3.3 MB/s eta 0:00:02\n",
      "   ----------------- ---------------------- 4.2/9.8 MB 3.3 MB/s eta 0:00:02\n",
      "   ------------------- -------------------- 4.7/9.8 MB 3.3 MB/s eta 0:00:02\n",
      "   ---------------------- ----------------- 5.5/9.8 MB 3.3 MB/s eta 0:00:02\n",
      "   ------------------------- -------------- 6.3/9.8 MB 3.3 MB/s eta 0:00:02\n",
      "   ---------------------------- ----------- 7.1/9.8 MB 3.3 MB/s eta 0:00:01\n",
      "   ------------------------------ --------- 7.6/9.8 MB 3.3 MB/s eta 0:00:01\n",
      "   --------------------------------- ------ 8.1/9.8 MB 3.3 MB/s eta 0:00:01\n",
      "   ------------------------------------ --- 8.9/9.8 MB 3.2 MB/s eta 0:00:01\n",
      "   ---------------------------------------  9.7/9.8 MB 3.3 MB/s eta 0:00:01\n",
      "   ---------------------------------------- 9.8/9.8 MB 3.2 MB/s eta 0:00:00\n",
      "Using cached patsy-1.0.1-py2.py3-none-any.whl (232 kB)\n",
      "Downloading scipy-1.14.1-cp313-cp313-win_amd64.whl (44.5 MB)\n",
      "   ---------------------------------------- 0.0/44.5 MB ? eta -:--:--\n",
      "   ---------------------------------------- 0.5/44.5 MB 3.3 MB/s eta 0:00:14\n",
      "   - -------------------------------------- 1.3/44.5 MB 3.4 MB/s eta 0:00:13\n",
      "   - -------------------------------------- 2.1/44.5 MB 3.3 MB/s eta 0:00:13\n",
      "   -- ------------------------------------- 2.6/44.5 MB 3.3 MB/s eta 0:00:13\n",
      "   --- ------------------------------------ 3.4/44.5 MB 3.3 MB/s eta 0:00:13\n",
      "   --- ------------------------------------ 4.2/44.5 MB 3.3 MB/s eta 0:00:13\n",
      "   ---- ----------------------------------- 4.7/44.5 MB 3.3 MB/s eta 0:00:12\n",
      "   ---- ----------------------------------- 5.5/44.5 MB 3.3 MB/s eta 0:00:12\n",
      "   ----- ---------------------------------- 6.3/44.5 MB 3.3 MB/s eta 0:00:12\n",
      "   ------ --------------------------------- 6.8/44.5 MB 3.3 MB/s eta 0:00:12\n",
      "   ------ --------------------------------- 7.6/44.5 MB 3.3 MB/s eta 0:00:12\n",
      "   ------- -------------------------------- 8.4/44.5 MB 3.3 MB/s eta 0:00:11\n",
      "   -------- ------------------------------- 8.9/44.5 MB 3.3 MB/s eta 0:00:11\n",
      "   -------- ------------------------------- 9.7/44.5 MB 3.3 MB/s eta 0:00:11\n",
      "   --------- ------------------------------ 10.2/44.5 MB 3.3 MB/s eta 0:00:11\n",
      "   --------- ------------------------------ 11.0/44.5 MB 3.3 MB/s eta 0:00:11\n",
      "   ---------- ----------------------------- 11.8/44.5 MB 3.3 MB/s eta 0:00:11\n",
      "   ----------- ---------------------------- 12.6/44.5 MB 3.3 MB/s eta 0:00:10\n",
      "   ----------- ---------------------------- 13.1/44.5 MB 3.3 MB/s eta 0:00:10\n",
      "   ------------ --------------------------- 13.9/44.5 MB 3.3 MB/s eta 0:00:10\n",
      "   ------------- -------------------------- 14.7/44.5 MB 3.3 MB/s eta 0:00:10\n",
      "   ------------- -------------------------- 15.2/44.5 MB 3.3 MB/s eta 0:00:09\n",
      "   -------------- ------------------------- 16.0/44.5 MB 3.3 MB/s eta 0:00:09\n",
      "   --------------- ------------------------ 16.8/44.5 MB 3.3 MB/s eta 0:00:09\n",
      "   --------------- ------------------------ 17.0/44.5 MB 3.3 MB/s eta 0:00:09\n",
      "   ---------------- ----------------------- 17.8/44.5 MB 3.2 MB/s eta 0:00:09\n",
      "   ---------------- ----------------------- 18.4/44.5 MB 3.2 MB/s eta 0:00:09\n",
      "   ----------------- ---------------------- 19.1/44.5 MB 3.2 MB/s eta 0:00:08\n",
      "   ----------------- ---------------------- 19.7/44.5 MB 3.2 MB/s eta 0:00:08\n",
      "   ------------------ --------------------- 20.4/44.5 MB 3.2 MB/s eta 0:00:08\n",
      "   ------------------ --------------------- 21.0/44.5 MB 3.2 MB/s eta 0:00:08\n",
      "   ------------------- -------------------- 21.8/44.5 MB 3.2 MB/s eta 0:00:08\n",
      "   -------------------- ------------------- 22.5/44.5 MB 3.2 MB/s eta 0:00:07\n",
      "   -------------------- ------------------- 23.1/44.5 MB 3.2 MB/s eta 0:00:07\n",
      "   --------------------- ------------------ 23.9/44.5 MB 3.2 MB/s eta 0:00:07\n",
      "   ---------------------- ----------------- 24.6/44.5 MB 3.2 MB/s eta 0:00:07\n",
      "   ---------------------- ----------------- 25.2/44.5 MB 3.2 MB/s eta 0:00:07\n",
      "   ----------------------- ---------------- 25.7/44.5 MB 3.2 MB/s eta 0:00:06\n",
      "   ----------------------- ---------------- 26.5/44.5 MB 3.2 MB/s eta 0:00:06\n",
      "   ------------------------ --------------- 27.3/44.5 MB 3.2 MB/s eta 0:00:06\n",
      "   ------------------------ --------------- 27.8/44.5 MB 3.2 MB/s eta 0:00:06\n",
      "   ------------------------- -------------- 28.6/44.5 MB 3.2 MB/s eta 0:00:05\n",
      "   -------------------------- ------------- 29.4/44.5 MB 3.2 MB/s eta 0:00:05\n",
      "   -------------------------- ------------- 29.9/44.5 MB 3.2 MB/s eta 0:00:05\n",
      "   --------------------------- ------------ 30.7/44.5 MB 3.2 MB/s eta 0:00:05\n",
      "   ---------------------------- ----------- 31.5/44.5 MB 3.2 MB/s eta 0:00:05\n",
      "   ---------------------------- ----------- 32.0/44.5 MB 3.2 MB/s eta 0:00:04\n",
      "   ----------------------------- ---------- 32.8/44.5 MB 3.2 MB/s eta 0:00:04\n",
      "   ----------------------------- ---------- 33.3/44.5 MB 3.2 MB/s eta 0:00:04\n",
      "   ------------------------------ --------- 34.1/44.5 MB 3.2 MB/s eta 0:00:04\n",
      "   ------------------------------- -------- 34.9/44.5 MB 3.2 MB/s eta 0:00:04\n",
      "   ------------------------------- -------- 35.4/44.5 MB 3.2 MB/s eta 0:00:03\n",
      "   -------------------------------- ------- 36.2/44.5 MB 3.2 MB/s eta 0:00:03\n",
      "   --------------------------------- ------ 37.0/44.5 MB 3.2 MB/s eta 0:00:03\n",
      "   --------------------------------- ------ 37.5/44.5 MB 3.2 MB/s eta 0:00:03\n",
      "   ---------------------------------- ----- 38.3/44.5 MB 3.2 MB/s eta 0:00:02\n",
      "   ----------------------------------- ---- 39.1/44.5 MB 3.2 MB/s eta 0:00:02\n",
      "   ----------------------------------- ---- 39.8/44.5 MB 3.2 MB/s eta 0:00:02\n",
      "   ------------------------------------ --- 40.4/44.5 MB 3.2 MB/s eta 0:00:02\n",
      "   ------------------------------------ --- 40.9/44.5 MB 3.2 MB/s eta 0:00:02\n",
      "   ------------------------------------- -- 41.7/44.5 MB 3.2 MB/s eta 0:00:01\n",
      "   -------------------------------------- - 42.5/44.5 MB 3.2 MB/s eta 0:00:01\n",
      "   -------------------------------------- - 43.3/44.5 MB 3.2 MB/s eta 0:00:01\n",
      "   ---------------------------------------  43.8/44.5 MB 3.2 MB/s eta 0:00:01\n",
      "   ---------------------------------------  44.3/44.5 MB 3.2 MB/s eta 0:00:01\n",
      "   ---------------------------------------- 44.5/44.5 MB 3.2 MB/s eta 0:00:00\n",
      "Installing collected packages: scipy, patsy, statsmodels\n",
      "Successfully installed patsy-1.0.1 scipy-1.14.1 statsmodels-0.14.4\n"
     ]
    }
   ],
   "source": [
    "# !pip install -r ../requirements.txt"
   ]
  },
  {
   "cell_type": "markdown",
   "metadata": {},
   "source": [
    "# Imports"
   ]
  },
  {
   "cell_type": "code",
   "execution_count": null,
   "metadata": {},
   "outputs": [],
   "source": [
    "import datetime\n",
    "\n",
    "import pandas as pd\n",
    "import statsmodels.api as sm\n",
    "import statsmodels.formula.api as smf\n",
    "import xlrd"
   ]
  },
  {
   "cell_type": "markdown",
   "metadata": {},
   "source": [
    "# Load Data"
   ]
  },
  {
   "cell_type": "code",
   "execution_count": 3,
   "metadata": {},
   "outputs": [],
   "source": [
    "df = pd.read_excel(\"../data/Sample - Superstore.xls\")"
   ]
  },
  {
   "cell_type": "code",
   "execution_count": 4,
   "metadata": {},
   "outputs": [
    {
     "data": {
      "text/plain": [
       "(9994, 21)"
      ]
     },
     "execution_count": 4,
     "metadata": {},
     "output_type": "execute_result"
    }
   ],
   "source": [
    "df.shape"
   ]
  },
  {
   "cell_type": "code",
   "execution_count": 5,
   "metadata": {},
   "outputs": [
    {
     "data": {
      "text/plain": [
       "RowID           0\n",
       "OrderID         0\n",
       "OrderDate       0\n",
       "ShipDate        0\n",
       "ShipMode        0\n",
       "CustomerID      0\n",
       "CustomerName    0\n",
       "Segment         0\n",
       "Country         0\n",
       "City            0\n",
       "State           0\n",
       "PostalCode      0\n",
       "Region          0\n",
       "ProductID       0\n",
       "Category        0\n",
       "Sub_Category    0\n",
       "ProductName     0\n",
       "Sales           0\n",
       "Quantity        0\n",
       "Discount        0\n",
       "Profit          0\n",
       "dtype: int64"
      ]
     },
     "execution_count": 5,
     "metadata": {},
     "output_type": "execute_result"
    }
   ],
   "source": [
    "df.isna().sum()"
   ]
  },
  {
   "cell_type": "code",
   "execution_count": 18,
   "metadata": {},
   "outputs": [
    {
     "data": {
      "text/plain": [
       "RowID                    int64\n",
       "OrderID                 object\n",
       "OrderDate       datetime64[ns]\n",
       "ShipDate        datetime64[ns]\n",
       "ShipMode                object\n",
       "CustomerID              object\n",
       "CustomerName            object\n",
       "Segment                 object\n",
       "Country                 object\n",
       "City                    object\n",
       "State                   object\n",
       "PostalCode               int64\n",
       "Region                  object\n",
       "ProductID               object\n",
       "Category                object\n",
       "Sub_Category            object\n",
       "ProductName             object\n",
       "Sales                  float64\n",
       "Quantity                 int64\n",
       "Discount               float64\n",
       "Profit                 float64\n",
       "dtype: object"
      ]
     },
     "execution_count": 18,
     "metadata": {},
     "output_type": "execute_result"
    }
   ],
   "source": [
    "df.dtypes"
   ]
  },
  {
   "cell_type": "code",
   "execution_count": 23,
   "metadata": {},
   "outputs": [
    {
     "data": {
      "text/plain": [
       "0       2016-07-08\n",
       "1       2016-04-03\n",
       "2       2014-08-27\n",
       "3       2016-04-03\n",
       "4       2017-06-11\n",
       "           ...    \n",
       "9989    2014-03-07\n",
       "9990    2016-11-10\n",
       "9991    2014-03-07\n",
       "9992    2014-03-07\n",
       "9993    2014-02-18\n",
       "Name: OrderDate, Length: 9994, dtype: object"
      ]
     },
     "execution_count": 23,
     "metadata": {},
     "output_type": "execute_result"
    }
   ],
   "source": [
    "df[\"OrderDate\"].dt.strftime('%Y-%m-%d')\n"
   ]
  },
  {
   "cell_type": "code",
   "execution_count": 21,
   "metadata": {},
   "outputs": [
    {
     "name": "stdout",
     "output_type": "stream",
     "text": [
      "Max Date: 2014-01-03\n",
      "Min Date 2017-12-30\n"
     ]
    }
   ],
   "source": [
    "print(\"Max Date:\",df[\"OrderDate\"].min().strftime('%Y-%m-%d'))\n",
    "print(\"Min Date\",df[\"OrderDate\"].max().strftime('%Y-%m-%d'))"
   ]
  },
  {
   "cell_type": "code",
   "execution_count": 7,
   "metadata": {},
   "outputs": [
    {
     "name": "stdout",
     "output_type": "stream",
     "text": [
      "number of product id 1862\n",
      "number of product name 1850\n"
     ]
    }
   ],
   "source": [
    "print(\"number of product id\",df[\"ProductID\"].nunique())\n",
    "print(\"number of product name\",df[\"ProductName\"].nunique())"
   ]
  },
  {
   "cell_type": "code",
   "execution_count": 8,
   "metadata": {},
   "outputs": [
    {
     "name": "stdout",
     "output_type": "stream",
     "text": [
      "                                      ProductName  ProductID_count_distinct\n",
      "0                         Avery Non-Stick Binders                         2\n",
      "1                     Eldon Wave Desk Accessories                         2\n",
      "2                        Prang Drawing Pencil Set                         2\n",
      "3                         Storex Dura Pro Binders                         2\n",
      "4   Peel & Seel Recycled Catalog Envelopes, Brown                         2\n",
      "5                           Okidata C610n Printer                         2\n",
      "6                      KI Adjustable-Height Table                         2\n",
      "7                                   Staple magnet                         2\n",
      "8         #10- 4 1/8\" x 9 1/2\" Recycled Envelopes                         2\n",
      "9                      Staple-based wall hangings                         2\n",
      "10                                  Staple holder                         3\n",
      "11                                 Staple remover                         3\n",
      "12                        Staples in misc. colors                         7\n",
      "13                              Easy-staple paper                         8\n",
      "14                                Staple envelope                         9\n",
      "15                                        Staples                        10\n"
     ]
    }
   ],
   "source": [
    "result = (\n",
    "    df[[\"ProductID\", \"ProductName\"]]\n",
    "    .groupby(\"ProductName\")\n",
    "    .agg(ProductID_count_distinct=(\"ProductID\", \"nunique\"))  \n",
    "    .sort_values(\"ProductID_count_distinct\")\n",
    "    .loc[lambda x: x[\"ProductID_count_distinct\"] > 1]\n",
    "    .reset_index()\n",
    ")\n",
    "\n",
    "print(result)\n"
   ]
  },
  {
   "cell_type": "code",
   "execution_count": null,
   "metadata": {},
   "outputs": [],
   "source": [
    "dict_agg = {\n",
    "    \"ProductID\": \"count\",\n",
    "    \"Sales\": \"sum\",\n",
    "    \"Quantity\": \"sum\",\n",
    "    \"Profit\": \"sum\",\n",
    "    \"Discount\": \"mean\",\n",
    "}\n",
    "\n",
    "agg_df = (\n",
    "    df[[\"ProductID\", \"OrderDate\", \"Sales\", \"Quantity\", \"Profit\", \"Discount\"]]\n",
    "    .groupby([\"OrderDate\"])\n",
    "    .agg(dict_agg)\n",
    "    .sort_values(\"OrderDate\")\n",
    "    .reset_index()\n",
    ")"
   ]
  },
  {
   "cell_type": "code",
   "execution_count": null,
   "metadata": {},
   "outputs": [
    {
     "data": {
      "text/html": [
       "<div>\n",
       "<style scoped>\n",
       "    .dataframe tbody tr th:only-of-type {\n",
       "        vertical-align: middle;\n",
       "    }\n",
       "\n",
       "    .dataframe tbody tr th {\n",
       "        vertical-align: top;\n",
       "    }\n",
       "\n",
       "    .dataframe thead th {\n",
       "        text-align: right;\n",
       "    }\n",
       "</style>\n",
       "<table border=\"1\" class=\"dataframe\">\n",
       "  <thead>\n",
       "    <tr style=\"text-align: right;\">\n",
       "      <th></th>\n",
       "      <th>OrderDate</th>\n",
       "      <th>ProductID</th>\n",
       "      <th>Sales</th>\n",
       "      <th>Quantity</th>\n",
       "      <th>Profit</th>\n",
       "      <th>Discount</th>\n",
       "    </tr>\n",
       "  </thead>\n",
       "  <tbody>\n",
       "    <tr>\n",
       "      <th>OrderDate</th>\n",
       "      <td>1.000000</td>\n",
       "      <td>0.307168</td>\n",
       "      <td>0.170633</td>\n",
       "      <td>0.292095</td>\n",
       "      <td>0.089952</td>\n",
       "      <td>-0.002056</td>\n",
       "    </tr>\n",
       "    <tr>\n",
       "      <th>ProductID</th>\n",
       "      <td>0.307168</td>\n",
       "      <td>1.000000</td>\n",
       "      <td>0.622914</td>\n",
       "      <td>0.967554</td>\n",
       "      <td>0.224499</td>\n",
       "      <td>0.010172</td>\n",
       "    </tr>\n",
       "    <tr>\n",
       "      <th>Sales</th>\n",
       "      <td>0.170633</td>\n",
       "      <td>0.622914</td>\n",
       "      <td>1.000000</td>\n",
       "      <td>0.647291</td>\n",
       "      <td>0.489112</td>\n",
       "      <td>-0.044734</td>\n",
       "    </tr>\n",
       "    <tr>\n",
       "      <th>Quantity</th>\n",
       "      <td>0.292095</td>\n",
       "      <td>0.967554</td>\n",
       "      <td>0.647291</td>\n",
       "      <td>1.000000</td>\n",
       "      <td>0.224905</td>\n",
       "      <td>0.009359</td>\n",
       "    </tr>\n",
       "    <tr>\n",
       "      <th>Profit</th>\n",
       "      <td>0.089952</td>\n",
       "      <td>0.224499</td>\n",
       "      <td>0.489112</td>\n",
       "      <td>0.224905</td>\n",
       "      <td>1.000000</td>\n",
       "      <td>-0.228403</td>\n",
       "    </tr>\n",
       "    <tr>\n",
       "      <th>Discount</th>\n",
       "      <td>-0.002056</td>\n",
       "      <td>0.010172</td>\n",
       "      <td>-0.044734</td>\n",
       "      <td>0.009359</td>\n",
       "      <td>-0.228403</td>\n",
       "      <td>1.000000</td>\n",
       "    </tr>\n",
       "  </tbody>\n",
       "</table>\n",
       "</div>"
      ],
      "text/plain": [
       "           OrderDate  ProductID     Sales  Quantity    Profit  Discount\n",
       "OrderDate   1.000000   0.307168  0.170633  0.292095  0.089952 -0.002056\n",
       "ProductID   0.307168   1.000000  0.622914  0.967554  0.224499  0.010172\n",
       "Sales       0.170633   0.622914  1.000000  0.647291  0.489112 -0.044734\n",
       "Quantity    0.292095   0.967554  0.647291  1.000000  0.224905  0.009359\n",
       "Profit      0.089952   0.224499  0.489112  0.224905  1.000000 -0.228403\n",
       "Discount   -0.002056   0.010172 -0.044734  0.009359 -0.228403  1.000000"
      ]
     },
     "execution_count": 136,
     "metadata": {},
     "output_type": "execute_result"
    }
   ],
   "source": [
    "agg_df.corr()"
   ]
  },
  {
   "cell_type": "code",
   "execution_count": null,
   "metadata": {},
   "outputs": [
    {
     "name": "stdout",
     "output_type": "stream",
     "text": [
      "                            OLS Regression Results                            \n",
      "==============================================================================\n",
      "Dep. Variable:                 Profit   R-squared:                       0.052\n",
      "Model:                            OLS   Adj. R-squared:                  0.051\n",
      "Method:                 Least Squares   F-statistic:                     67.97\n",
      "Date:                Sun, 22 Dec 2024   Prob (F-statistic):           4.20e-16\n",
      "Time:                        23:47:01   Log-Likelihood:                -9830.7\n",
      "No. Observations:                1237   AIC:                         1.967e+04\n",
      "Df Residuals:                    1235   BIC:                         1.968e+04\n",
      "Df Model:                           1                                         \n",
      "Covariance Type:            nonrobust                                         \n",
      "==============================================================================\n",
      "                 coef    std err          t      P>|t|      [0.025      0.975]\n",
      "------------------------------------------------------------------------------\n",
      "Intercept    439.6964     31.884     13.791      0.000     377.144     502.249\n",
      "Discount   -1340.7781    162.625     -8.245      0.000   -1659.831   -1021.726\n",
      "==============================================================================\n",
      "Omnibus:                      939.546   Durbin-Watson:                   2.062\n",
      "Prob(Omnibus):                  0.000   Jarque-Bera (JB):            90756.577\n",
      "Skew:                           2.780   Prob(JB):                         0.00\n",
      "Kurtosis:                      44.592   Cond. No.                         8.56\n",
      "==============================================================================\n",
      "\n",
      "Notes:\n",
      "[1] Standard Errors assume that the covariance matrix of the errors is correctly specified.\n"
     ]
    }
   ],
   "source": [
    "res = smf.ols(\"Profit ~ Discount\", data=sm.add_constant(agg_df)).fit()\n",
    "print(res.summary())"
   ]
  },
  {
   "cell_type": "code",
   "execution_count": null,
   "metadata": {},
   "outputs": [],
   "source": []
  },
  {
   "cell_type": "code",
   "execution_count": null,
   "metadata": {},
   "outputs": [],
   "source": []
  }
 ],
 "metadata": {
  "kernelspec": {
   "display_name": "demand_forecasting",
   "language": "python",
   "name": "python3"
  },
  "language_info": {
   "codemirror_mode": {
    "name": "ipython",
    "version": 3
   },
   "file_extension": ".py",
   "mimetype": "text/x-python",
   "name": "python",
   "nbconvert_exporter": "python",
   "pygments_lexer": "ipython3",
   "version": "3.12.2"
  }
 },
 "nbformat": 4,
 "nbformat_minor": 2
}
